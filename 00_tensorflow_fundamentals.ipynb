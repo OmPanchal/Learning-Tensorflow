{
  "nbformat": 4,
  "nbformat_minor": 0,
  "metadata": {
    "colab": {
      "name": "00_tensorflow_fundamentals.ipynb",
      "provenance": [],
      "collapsed_sections": [
        "CLmQdLdcNUIi",
        "dOfz_XFbwgXr",
        "F16nST9QR0uN",
        "9Hp9dD52Vi49",
        "YMe9zLyk1mpX",
        "N9Ib0PmsI2Lm",
        "ps02_d2PVDzr",
        "HLA19cS_YByA",
        "7S3M0jXt7w7C",
        "mJMOYl5Dhljp",
        "BpGvZ0pc9Fbc",
        "w8WcOOcr-Y7k",
        "vJM0Bohd6II9",
        "3SPhcKZkhUPY",
        "ieHyVBPlkTlD",
        "FIvRSA6LmWZk"
      ],
      "authorship_tag": "ABX9TyMvOgHyrpDtLS08TZOXWM7F",
      "include_colab_link": true
    },
    "kernelspec": {
      "name": "python3",
      "display_name": "Python 3"
    },
    "language_info": {
      "name": "python"
    }
  },
  "cells": [
    {
      "cell_type": "markdown",
      "metadata": {
        "id": "view-in-github",
        "colab_type": "text"
      },
      "source": [
        "<a href=\"https://colab.research.google.com/github/OmPanchal/Learning-Tensorflow/blob/main/00_tensorflow_fundamentals.ipynb\" target=\"_parent\"><img src=\"https://colab.research.google.com/assets/colab-badge.svg\" alt=\"Open In Colab\"/></a>"
      ]
    },
    {
      "cell_type": "markdown",
      "source": [
        "## **In this notebook we are going to cover the most fundamental concepts of tensors using tensorflow**\n",
        "\n",
        "### **Contents**:\n",
        "* Introduction to tensors \n",
        "* Get info from tensors\n",
        "* Manipulating the tensors\n",
        "* Tensors in NumPy\n",
        "* Using at @tf.function (using GPUs with Tf)\n",
        "* Excercises\n"
      ],
      "metadata": {
        "id": "rk1UiQr58l3Z"
      }
    },
    {
      "cell_type": "markdown",
      "source": [
        "## **Introduction to tensors**"
      ],
      "metadata": {
        "id": "F1d2YpRf9S5i"
      }
    },
    {
      "cell_type": "markdown",
      "source": [
        "### ⭐ Creating tensors with `tf.constant`"
      ],
      "metadata": {
        "id": "CLmQdLdcNUIi"
      }
    },
    {
      "cell_type": "code",
      "source": [
        "import tensorflow as tf \n",
        "print(tf.__version__)"
      ],
      "metadata": {
        "colab": {
          "base_uri": "https://localhost:8080/"
        },
        "id": "HueFlAHn9aGY",
        "outputId": "0391c85c-c314-4d7c-fca6-c39d6039ad2c"
      },
      "execution_count": null,
      "outputs": [
        {
          "output_type": "stream",
          "name": "stdout",
          "text": [
            "2.8.0\n"
          ]
        }
      ]
    },
    {
      "cell_type": "code",
      "source": [
        "# creating tensors with tf.constant()\n",
        "scalar = tf.constant(7)\n",
        "scalar\n",
        "# shape = \"()\" since it is only a scalar"
      ],
      "metadata": {
        "id": "siWKKYn-9uRX",
        "colab": {
          "base_uri": "https://localhost:8080/"
        },
        "outputId": "c0c2befe-e817-46d1-8286-fc04f3a261e3"
      },
      "execution_count": null,
      "outputs": [
        {
          "output_type": "execute_result",
          "data": {
            "text/plain": [
              "<tf.Tensor: shape=(), dtype=int32, numpy=7>"
            ]
          },
          "metadata": {},
          "execution_count": 2
        }
      ]
    },
    {
      "cell_type": "code",
      "source": [
        "# Check the number of dimensions of a tensor (ndim == number of dimensions)\n",
        "scalar.ndim"
      ],
      "metadata": {
        "id": "vxq1ApnOndm1",
        "colab": {
          "base_uri": "https://localhost:8080/"
        },
        "outputId": "5ac8d757-b1d6-487f-b957-3b795f98023b"
      },
      "execution_count": null,
      "outputs": [
        {
          "output_type": "execute_result",
          "data": {
            "text/plain": [
              "0"
            ]
          },
          "metadata": {},
          "execution_count": 3
        }
      ]
    },
    {
      "cell_type": "code",
      "source": [
        "# Create a vector\n",
        "vector = tf.constant([10, 10])\n",
        "vector"
      ],
      "metadata": {
        "id": "AoWHw-Enn4la",
        "colab": {
          "base_uri": "https://localhost:8080/"
        },
        "outputId": "1764d8f1-6eaf-4581-f11a-658454654d16"
      },
      "execution_count": null,
      "outputs": [
        {
          "output_type": "execute_result",
          "data": {
            "text/plain": [
              "<tf.Tensor: shape=(2,), dtype=int32, numpy=array([10, 10], dtype=int32)>"
            ]
          },
          "metadata": {},
          "execution_count": 4
        }
      ]
    },
    {
      "cell_type": "code",
      "source": [
        "# Check the dimensions of the vector\n",
        "vector.ndim"
      ],
      "metadata": {
        "id": "ea55CWRNoqeb",
        "colab": {
          "base_uri": "https://localhost:8080/"
        },
        "outputId": "212fa6e1-75e6-45e4-d2eb-7cf8e393ae6c"
      },
      "execution_count": null,
      "outputs": [
        {
          "output_type": "execute_result",
          "data": {
            "text/plain": [
              "1"
            ]
          },
          "metadata": {},
          "execution_count": 5
        }
      ]
    },
    {
      "cell_type": "code",
      "source": [
        "# Create a matrix (has more than 1 dimension)\n",
        "matrix = tf.constant([[1, 1],\n",
        "                      [2, 2]])\n",
        "\n",
        "matrix"
      ],
      "metadata": {
        "id": "UdKjCLNRo6yo",
        "colab": {
          "base_uri": "https://localhost:8080/"
        },
        "outputId": "30a559cb-cd8f-4890-e204-fa805e0e78b6"
      },
      "execution_count": null,
      "outputs": [
        {
          "output_type": "execute_result",
          "data": {
            "text/plain": [
              "<tf.Tensor: shape=(2, 2), dtype=int32, numpy=\n",
              "array([[1, 1],\n",
              "       [2, 2]], dtype=int32)>"
            ]
          },
          "metadata": {},
          "execution_count": 6
        }
      ]
    },
    {
      "cell_type": "code",
      "source": [
        "# Check the number of dimensions of the matrix\n",
        "matrix.ndim"
      ],
      "metadata": {
        "id": "F4f-utCEpTdx",
        "colab": {
          "base_uri": "https://localhost:8080/"
        },
        "outputId": "1b7a72ab-f3f4-4bd2-d82d-9b6ba71d1cec"
      },
      "execution_count": null,
      "outputs": [
        {
          "output_type": "execute_result",
          "data": {
            "text/plain": [
              "2"
            ]
          },
          "metadata": {},
          "execution_count": 7
        }
      ]
    },
    {
      "cell_type": "code",
      "source": [
        "# Create another matrix and specify the data type with dtype\n",
        "another_matrix = tf.constant([[1., 2., 3.],\n",
        "                              [4., 5., 6.],\n",
        "                              [7., 8., 9.]], dtype=tf.float16)\n",
        "another_matrix # Changes the data type of the tensor "
      ],
      "metadata": {
        "id": "WbI6SGUhpj3Q",
        "colab": {
          "base_uri": "https://localhost:8080/"
        },
        "outputId": "436f05d7-e612-4a73-bf3a-4e16170df817"
      },
      "execution_count": null,
      "outputs": [
        {
          "output_type": "execute_result",
          "data": {
            "text/plain": [
              "<tf.Tensor: shape=(3, 3), dtype=float16, numpy=\n",
              "array([[1., 2., 3.],\n",
              "       [4., 5., 6.],\n",
              "       [7., 8., 9.]], dtype=float16)>"
            ]
          },
          "metadata": {},
          "execution_count": 8
        }
      ]
    },
    {
      "cell_type": "code",
      "source": [
        "# Number of dimensions of another_matrix\n",
        "another_matrix.ndim\n",
        "\n",
        "# -- Total number of dimensions is equal to the number of elements in the shape of the tensor --"
      ],
      "metadata": {
        "id": "n8yqLbCyqyys",
        "colab": {
          "base_uri": "https://localhost:8080/"
        },
        "outputId": "4e8d7a1b-89fc-48fc-f75b-50b1ac01d5bf"
      },
      "execution_count": null,
      "outputs": [
        {
          "output_type": "execute_result",
          "data": {
            "text/plain": [
              "2"
            ]
          },
          "metadata": {},
          "execution_count": 9
        }
      ]
    },
    {
      "cell_type": "code",
      "source": [
        "# Increase the number of dimensions\n",
        "larger_matrix = tf.constant([[ [1, 2] , [3, 4] ],\n",
        "                             [ [5, 6] , [7, 8] ],\n",
        "                             [ [9, 10] , [11, 12] ]])\n",
        "larger_matrix"
      ],
      "metadata": {
        "id": "xLu-U2nLr8kP",
        "colab": {
          "base_uri": "https://localhost:8080/"
        },
        "outputId": "e3133435-a6be-4b12-fbf8-a5428312bdf1"
      },
      "execution_count": null,
      "outputs": [
        {
          "output_type": "execute_result",
          "data": {
            "text/plain": [
              "<tf.Tensor: shape=(3, 2, 2), dtype=int32, numpy=\n",
              "array([[[ 1,  2],\n",
              "        [ 3,  4]],\n",
              "\n",
              "       [[ 5,  6],\n",
              "        [ 7,  8]],\n",
              "\n",
              "       [[ 9, 10],\n",
              "        [11, 12]]], dtype=int32)>"
            ]
          },
          "metadata": {},
          "execution_count": 10
        }
      ]
    },
    {
      "cell_type": "code",
      "source": [
        "# Number of dimensions in larger_matrix\n",
        "larger_matrix.ndim\n",
        "\n",
        "### -- This \"larger_matrix\" can also be called a tensor\n",
        "### -- But technically the same thing"
      ],
      "metadata": {
        "id": "v8_VJB0ushSw",
        "colab": {
          "base_uri": "https://localhost:8080/"
        },
        "outputId": "341c601d-2cbb-43ce-a4f6-881837ca0f50"
      },
      "execution_count": null,
      "outputs": [
        {
          "output_type": "execute_result",
          "data": {
            "text/plain": [
              "3"
            ]
          },
          "metadata": {},
          "execution_count": 11
        }
      ]
    },
    {
      "cell_type": "markdown",
      "source": [
        "### 📗 **What we have created so far**\n",
        "* **Scalar** : a single number\n",
        "* **Vector** : a number with a direction (e.g. wind speed and direction)\n",
        "* **Matrix** : a 2 dimensional vector\n",
        "* **Tensor** : an n-dimensional array of numbers, where n can be any number (e.g. 7 dimensions)"
      ],
      "metadata": {
        "id": "gBZ0dVlWupY8"
      }
    },
    {
      "cell_type": "markdown",
      "source": [
        "### ⭐ Creating tensors with `tf.Variable`"
      ],
      "metadata": {
        "id": "dOfz_XFbwgXr"
      }
    },
    {
      "cell_type": "code",
      "source": [
        "# This is a changeable tensor\n",
        "changeable_tensor = tf.Variable([1, 2, 3, 4])\n",
        "unchangeable_tensor = tf.constant([1, 2 ,3, 4])\n",
        "changeable_tensor, unchangeable_tensor"
      ],
      "metadata": {
        "colab": {
          "base_uri": "https://localhost:8080/"
        },
        "id": "YTPwAmqrwm5d",
        "outputId": "2e8ec6c7-1a8a-4ba1-b08c-f80059961363"
      },
      "execution_count": null,
      "outputs": [
        {
          "output_type": "execute_result",
          "data": {
            "text/plain": [
              "(<tf.Variable 'Variable:0' shape=(4,) dtype=int32, numpy=array([1, 2, 3, 4], dtype=int32)>,\n",
              " <tf.Tensor: shape=(4,), dtype=int32, numpy=array([1, 2, 3, 4], dtype=int32)>)"
            ]
          },
          "metadata": {},
          "execution_count": 12
        }
      ]
    },
    {
      "cell_type": "code",
      "source": [
        "# Try to change one of the elements in the changeable tensor\n",
        "# changeable_tensor[0] = 10\n",
        "# changeable_tensor\n",
        "# -- ERROR --"
      ],
      "metadata": {
        "id": "afs0buZjPoig"
      },
      "execution_count": null,
      "outputs": []
    },
    {
      "cell_type": "markdown",
      "source": [
        "### ⭐ Change the value of the elements in a tensor with `.assign`\n",
        "\n"
      ],
      "metadata": {
        "id": "F16nST9QR0uN"
      }
    },
    {
      "cell_type": "markdown",
      "source": [
        ""
      ],
      "metadata": {
        "id": "MyWgNUtKR0Mg"
      }
    },
    {
      "cell_type": "code",
      "source": [
        "# Use .assign function\n",
        "changeable_tensor[0].assign(10)\n",
        "changeable_tensor \n",
        "# Works"
      ],
      "metadata": {
        "id": "0yOj9Et3Ra5v",
        "colab": {
          "base_uri": "https://localhost:8080/"
        },
        "outputId": "235b896c-3207-47a0-c37a-dae0fc754c0e"
      },
      "execution_count": null,
      "outputs": [
        {
          "output_type": "execute_result",
          "data": {
            "text/plain": [
              "<tf.Variable 'Variable:0' shape=(4,) dtype=int32, numpy=array([10,  2,  3,  4], dtype=int32)>"
            ]
          },
          "metadata": {},
          "execution_count": 14
        }
      ]
    },
    {
      "cell_type": "code",
      "source": [
        "# Try to change the value in the unchangable tensor\n",
        "unchangeable_tensor[0].assign(2)\n",
        "unchangeable_tensor\n",
        "# Does not work as it is a constant tensor"
      ],
      "metadata": {
        "id": "ruv4qNU1SS3l",
        "colab": {
          "base_uri": "https://localhost:8080/",
          "height": 406
        },
        "outputId": "2fb416f1-ed01-492a-d89f-697e732387f0"
      },
      "execution_count": null,
      "outputs": [
        {
          "output_type": "error",
          "ename": "AttributeError",
          "evalue": "ignored",
          "traceback": [
            "\u001b[0;31m---------------------------------------------------------------------------\u001b[0m",
            "\u001b[0;31mAttributeError\u001b[0m                            Traceback (most recent call last)",
            "\u001b[0;32m<ipython-input-15-b2535455b416>\u001b[0m in \u001b[0;36m<module>\u001b[0;34m()\u001b[0m\n\u001b[1;32m      1\u001b[0m \u001b[0;31m# Try to change the value in the unchangable tensor\u001b[0m\u001b[0;34m\u001b[0m\u001b[0;34m\u001b[0m\u001b[0;34m\u001b[0m\u001b[0m\n\u001b[0;32m----> 2\u001b[0;31m \u001b[0munchangeable_tensor\u001b[0m\u001b[0;34m[\u001b[0m\u001b[0;36m0\u001b[0m\u001b[0;34m]\u001b[0m\u001b[0;34m.\u001b[0m\u001b[0massign\u001b[0m\u001b[0;34m(\u001b[0m\u001b[0;36m2\u001b[0m\u001b[0;34m)\u001b[0m\u001b[0;34m\u001b[0m\u001b[0;34m\u001b[0m\u001b[0m\n\u001b[0m\u001b[1;32m      3\u001b[0m \u001b[0munchangeable_tensor\u001b[0m\u001b[0;34m\u001b[0m\u001b[0;34m\u001b[0m\u001b[0m\n\u001b[1;32m      4\u001b[0m \u001b[0;31m# Does not work as it is a constant tensor\u001b[0m\u001b[0;34m\u001b[0m\u001b[0;34m\u001b[0m\u001b[0;34m\u001b[0m\u001b[0m\n",
            "\u001b[0;32m/usr/local/lib/python3.7/dist-packages/tensorflow/python/framework/ops.py\u001b[0m in \u001b[0;36m__getattr__\u001b[0;34m(self, name)\u001b[0m\n\u001b[1;32m    511\u001b[0m         \u001b[0;32mfrom\u001b[0m \u001b[0mtensorflow\u001b[0m\u001b[0;34m.\u001b[0m\u001b[0mpython\u001b[0m\u001b[0;34m.\u001b[0m\u001b[0mops\u001b[0m\u001b[0;34m.\u001b[0m\u001b[0mnumpy_ops\u001b[0m \u001b[0;32mimport\u001b[0m \u001b[0mnp_config\u001b[0m\u001b[0;34m\u001b[0m\u001b[0;34m\u001b[0m\u001b[0m\n\u001b[1;32m    512\u001b[0m         np_config.enable_numpy_behavior()\"\"\".format(type(self).__name__, name))\n\u001b[0;32m--> 513\u001b[0;31m     \u001b[0mself\u001b[0m\u001b[0;34m.\u001b[0m\u001b[0m__getattribute__\u001b[0m\u001b[0;34m(\u001b[0m\u001b[0mname\u001b[0m\u001b[0;34m)\u001b[0m\u001b[0;34m\u001b[0m\u001b[0;34m\u001b[0m\u001b[0m\n\u001b[0m\u001b[1;32m    514\u001b[0m \u001b[0;34m\u001b[0m\u001b[0m\n\u001b[1;32m    515\u001b[0m   \u001b[0;34m@\u001b[0m\u001b[0mstaticmethod\u001b[0m\u001b[0;34m\u001b[0m\u001b[0;34m\u001b[0m\u001b[0m\n",
            "\u001b[0;31mAttributeError\u001b[0m: 'tensorflow.python.framework.ops.EagerTensor' object has no attribute 'assign'"
          ]
        }
      ]
    },
    {
      "cell_type": "markdown",
      "source": [
        "##### 🔑 **NOTE:** You are rarely going to have the decide whether to use `tf.constant` or `tf.Variable`. Tensorflow will do this for you in the background"
      ],
      "metadata": {
        "id": "84lE0-L5Vuuz"
      }
    },
    {
      "cell_type": "markdown",
      "source": [
        "### ⭐ Creating random tensors with `tf.random`"
      ],
      "metadata": {
        "id": "9Hp9dD52Vi49"
      }
    },
    {
      "cell_type": "code",
      "source": [
        "# Radom tensors are tensors of some arbitrary size containing random numbers\n",
        "# -- Used to initialize weights in neural networks\n",
        "\n",
        "# Function takes the shape of the tensor, the minumum value and the maximum value\n",
        "random_arr = tf.random.uniform(shape=[2, 2]) # Uniform Distribution\n",
        "random_arr2 = tf.random.normal(shape=[2, 2]) # Normal Distribution\n",
        "\n",
        "random_arr, random_arr2"
      ],
      "metadata": {
        "id": "8FarIiWnY6Ib"
      },
      "execution_count": null,
      "outputs": []
    },
    {
      "cell_type": "code",
      "source": [
        "# Creating Random Tensors with a seed\n",
        "\n",
        "random_arr3 = tf.random.Generator.from_seed(123)\n",
        "random_arr3 = random_arr3.normal(shape=[2, 2])\n",
        "\n",
        "random_arr4 = tf.random.Generator.from_seed(123)\n",
        "random_arr4 = random_arr4.normal(shape=[2, 2])\n",
        "\n",
        "random_arr3, random_arr4, random_arr3 == random_arr4"
      ],
      "metadata": {
        "id": "5Y7_qXUay_uk"
      },
      "execution_count": null,
      "outputs": []
    },
    {
      "cell_type": "markdown",
      "source": [
        "### ⭐ Shuffle the order of the elements in a tensor with `tf.random.shuffle`"
      ],
      "metadata": {
        "id": "YMe9zLyk1mpX"
      }
    },
    {
      "cell_type": "code",
      "source": [
        "# Shuffle the tensor (Good when you don't want the order of your data to affect the learning patterns)\n",
        "not_shuffled = tf.constant([[1, 2],\n",
        "                           [3, 4],\n",
        "                           [5, 6]])\n",
        "\n",
        "tf.random.set_seed(123)\n",
        "not_shuffled = tf.random.shuffle(not_shuffled)\n",
        "\n",
        "# -- Shuffled along the first element --\n",
        "not_shuffled"
      ],
      "metadata": {
        "id": "gql4_RXbF9k1"
      },
      "execution_count": null,
      "outputs": []
    },
    {
      "cell_type": "markdown",
      "source": [
        "##### 📚 **Exercise:** Look through the TensorFlow Documentation on [Random Seed Generation](https://www.tensorflow.org/api_docs/python/tf/random/set_seed). Write 5 radom tensors and shuffle them.\n",
        "\n",
        "##### If we want our shuffled tensor to be in the same order, we need to set the global seed and the operation level seed.\n",
        "##### **🧪 What I found out:** \n",
        "\n",
        "> **Rule 4**: \"If both the global and the operation seed are set: Both seeds are used in conjunction to determine the random sequence\".\n",
        "\n",
        "```\n",
        "tf.random.set_seed(1234) # set the global seed\n",
        "tf.random.shuffle(tensor, seed=1234) # set the operation level seed\n",
        "```"
      ],
      "metadata": {
        "id": "N9Ib0PmsI2Lm"
      }
    },
    {
      "cell_type": "code",
      "source": [
        "# make 5 random arrays\n",
        "arr1 = tf.random.uniform(shape=[1, 2])\n",
        "arr2 = tf.random.uniform(shape=[2, 2, 3])\n",
        "arr3 = tf.random.normal(shape=[1])\n",
        "arr4 = tf.random.normal(shape=[1, 2, 2, 1])\n",
        "arr5 = tf.random. uniform(shape=[3])\n",
        "\n",
        "arr1, arr2, arr3, arr4, arr5"
      ],
      "metadata": {
        "id": "AOqQIf7gOEIq"
      },
      "execution_count": null,
      "outputs": []
    },
    {
      "cell_type": "code",
      "source": [
        "# shuffle the tensors\n",
        "arr1shuff = tf.random.shuffle(arr1)\n",
        "arr2shuff = tf.random.shuffle(arr2)\n",
        "arr3shuff = tf.random.shuffle(arr3)\n",
        "arr4shuff = tf.random.shuffle(arr4)\n",
        "arr5shuff = tf.random.shuffle(arr5)\n",
        "\n",
        "# -- All shuffled along the first elements --\n",
        "arr1shuff, arr2shuff, arr3shuff, arr4shuff, arr5shuff"
      ],
      "metadata": {
        "id": "ElUeex8FQtmu"
      },
      "execution_count": null,
      "outputs": []
    },
    {
      "cell_type": "markdown",
      "source": [
        "### ⭐ Other ways to make a tensor"
      ],
      "metadata": {
        "id": "ps02_d2PVDzr"
      }
    },
    {
      "cell_type": "code",
      "source": [
        "# Creates a tensor of any given shape with all elements equal to one\n",
        "tf.ones([3, 3]) "
      ],
      "metadata": {
        "id": "Tkz01JM3Vhjp"
      },
      "execution_count": null,
      "outputs": []
    },
    {
      "cell_type": "code",
      "source": [
        "# Creates a tensor of all zeros\n",
        "tf.zeros([3, 3])"
      ],
      "metadata": {
        "id": "hc_pMa7VWe98"
      },
      "execution_count": null,
      "outputs": []
    },
    {
      "cell_type": "markdown",
      "source": [
        "##### 🔑 **Note:** The main difference between Numpy arrays and Tensorflow tensors is that, tensors can be run on a GPU which is much faster for numerical computation"
      ],
      "metadata": {
        "id": "1TzFMXQbXIXc"
      }
    },
    {
      "cell_type": "markdown",
      "source": [
        "### ⭐ Tensors from Numpy arrays"
      ],
      "metadata": {
        "id": "HLA19cS_YByA"
      }
    },
    {
      "cell_type": "code",
      "source": [
        "import numpy as np \n",
        "\n",
        "# Create a numpy array\n",
        "numpy_A = np.arange(1, 26, dtype=np.int32)\n",
        "numpy_A\n",
        "\n",
        "# Convert it to a tensor\n",
        "\"\"\"\n",
        "The shape of the tensor should multiply to equal to\n",
        " the number of elements in the tensor\n",
        "\"\"\" \n",
        "tensor_A = tf.constant(numpy_A, shape=[5, 5]) # Tensor\n",
        "tensor_B = tf.constant(numpy_A) # Vector\n",
        "\n",
        "tensor_A, tensor_B"
      ],
      "metadata": {
        "id": "ipzB7CaoYGaz"
      },
      "execution_count": null,
      "outputs": []
    },
    {
      "cell_type": "markdown",
      "source": [
        "### ⭐ Getting more information from tensors\n",
        " 🔑 Different attibutes of a tensor:\n",
        "* Shape (number of elements in each dimension of a tensor) | `tensor.shape`\n",
        "* Rank (number of dimensions in a tensor) | `tensor.ndim`\n",
        "* Axis or Dimension (particular dimension of a tensor) | `tensor[0], tensor[:, 1]`\n",
        "* Size (total number of items in the tensor) | `tf.size(tensor)`"
      ],
      "metadata": {
        "id": "7S3M0jXt7w7C"
      }
    },
    {
      "cell_type": "code",
      "source": [
        "# 4 dimension tensor\n",
        "rank_4_tensor = tf.zeros(shape=[1, 2, 3, 4])\n",
        "rank_4_tensor"
      ],
      "metadata": {
        "id": "n6Z5-SF79SWv"
      },
      "execution_count": null,
      "outputs": []
    },
    {
      "cell_type": "code",
      "source": [
        "rank_4_tensor[:, :, 0]"
      ],
      "metadata": {
        "id": "wvvY8QcA-Icf"
      },
      "execution_count": null,
      "outputs": []
    },
    {
      "cell_type": "code",
      "source": [
        "rank_4_tensor.shape, rank_4_tensor.ndim, rank_4_tensor[:, 1], tf.size(rank_4_tensor)"
      ],
      "metadata": {
        "id": "SSS0VvKl_mPT"
      },
      "execution_count": null,
      "outputs": []
    },
    {
      "cell_type": "code",
      "source": [
        "# Get different atributes of our tensors\n",
        "print(\"Datatype of every elements:\", rank_4_tensor.dtype)\n",
        "print(\"Shape of the tensor:\", rank_4_tensor.shape)\n",
        "print(\"Number of dimensions of the tensor:\", rank_4_tensor.ndim)\n",
        "print(\"Number of elements along 0 axis:\", rank_4_tensor.shape[0])\n",
        "print(\"Number of elements along last axis:\", rank_4_tensor.shape[-1])\n",
        "print(\"Total number of elements:\", tf.size(rank_4_tensor).numpy())\n",
        "# .numpy() turns it into an integer\n"
      ],
      "metadata": {
        "id": "bCZ_iNzyAONP"
      },
      "execution_count": null,
      "outputs": []
    },
    {
      "cell_type": "markdown",
      "source": [
        "### 📗 Why is this used?\n",
        "This is used as not all tensors that you come across can be visualized easily. Due to this we use different attributes of the tensor to access different information about them."
      ],
      "metadata": {
        "id": "sq3F-V_ahATY"
      }
    },
    {
      "cell_type": "markdown",
      "source": [
        "### ⭐Indexing Tensors"
      ],
      "metadata": {
        "id": "mJMOYl5Dhljp"
      }
    },
    {
      "cell_type": "markdown",
      "source": [
        "Tensors can be indexed just like normal python lists"
      ],
      "metadata": {
        "id": "BC5kV0gyiCXv"
      }
    },
    {
      "cell_type": "code",
      "source": [
        "# Get the first 2 elements of each dimension \n",
        "rank_4_tensor[:2, :2, :2, :2]"
      ],
      "metadata": {
        "id": "9Mtj82u8iGBo"
      },
      "execution_count": null,
      "outputs": []
    },
    {
      "cell_type": "code",
      "source": [
        "# Get first element from each dimansion from each index except for the final one \n",
        "rank_4_tensor[:1, :, :1, :1]"
      ],
      "metadata": {
        "id": "T39vyHc0ixBu"
      },
      "execution_count": null,
      "outputs": []
    },
    {
      "cell_type": "code",
      "source": [
        "# Changing the shape od a tensor\n",
        "\n",
        "# Create a rank 2 tensor (2 dimensions)\n",
        "rank_2_tensor = tf.constant([[1, 2], \n",
        "                             [3, 4]])\n",
        "\n",
        "rank_2_tensor.shape, rank_2_tensor.ndim"
      ],
      "metadata": {
        "id": "9ot0ixOnjxPu"
      },
      "execution_count": null,
      "outputs": []
    },
    {
      "cell_type": "code",
      "source": [
        "# Get last item of each row of the rank 2 tensor\n",
        "rank_2_tensor[:, -1]"
      ],
      "metadata": {
        "id": "meaUGMz6686L"
      },
      "execution_count": null,
      "outputs": []
    },
    {
      "cell_type": "markdown",
      "source": [
        "### ⭐ Add new dimension to an existing tensor with `tf.newaxis`"
      ],
      "metadata": {
        "id": "BpGvZ0pc9Fbc"
      }
    },
    {
      "cell_type": "code",
      "source": [
        "# Add in an extra dimension to out rank 2 tensor\n",
        "# Change the rank 2 tensor to a rank 3 tensor, but keep the same values\n",
        "\n",
        "rank_3_tensor = rank_2_tensor[..., tf.newaxis]\n",
        "rank_3_tensor\n"
      ],
      "metadata": {
        "id": "WyM5KVZm8bRa"
      },
      "execution_count": null,
      "outputs": []
    },
    {
      "cell_type": "markdown",
      "source": [
        "### ⭐ Add new dimension to an existing tensor with `tf.expand_dims`"
      ],
      "metadata": {
        "id": "w8WcOOcr-Y7k"
      }
    },
    {
      "cell_type": "code",
      "source": [
        "# Alternative to tf.newaxis\n",
        "tf.expand_dims(rank_2_tensor, axis=-1) # -1 means expand at the final axis"
      ],
      "metadata": {
        "id": "kjENwVWG97fM"
      },
      "execution_count": null,
      "outputs": []
    },
    {
      "cell_type": "code",
      "source": [
        "tf.expand_dims(rank_2_tensor, axis=0) # Adds new dimension to first axis"
      ],
      "metadata": {
        "id": "XxwMY-Ls_UyA"
      },
      "execution_count": null,
      "outputs": []
    },
    {
      "cell_type": "code",
      "source": [
        "# only adds different axis to the tensor, does not change any of the values within the tensor\n",
        "rank_2_tensor "
      ],
      "metadata": {
        "id": "M_IMUpQn_gtG"
      },
      "execution_count": null,
      "outputs": []
    },
    {
      "cell_type": "markdown",
      "source": [
        "### ⭐ Manipulating Tensors (Tensor operations)\n",
        "**Basic Math Operations :** \n",
        "`+`, `-`, `*`, `/`"
      ],
      "metadata": {
        "id": "vJM0Bohd6II9"
      }
    },
    {
      "cell_type": "code",
      "source": [
        "# You can add values to a tensor using the addition operator\n",
        "tensor = tf.constant([[1, 2],\n",
        "                      [3, 4]])\n",
        "\n",
        "tensor + 10 # Adds 10 to all elements to a tensor\n",
        "# ^ This works for all operations"
      ],
      "metadata": {
        "id": "sD7wUDhX6OYu"
      },
      "execution_count": null,
      "outputs": []
    },
    {
      "cell_type": "markdown",
      "source": [
        "##### 🔑 **NOTE :** When manipultaing tensors, the origional tensor stays the same, to overwrite the value of the origional tensor, you have the reassign the variable with the changed tensor"
      ],
      "metadata": {
        "id": "B2Qn8YFc7eNA"
      }
    },
    {
      "cell_type": "code",
      "source": [
        "#  Origional tensor does not change \n",
        "tensor"
      ],
      "metadata": {
        "id": "AiEZKI0m8GBL"
      },
      "execution_count": null,
      "outputs": []
    },
    {
      "cell_type": "code",
      "source": [
        "# Multiplication\n",
        "tensor * 10"
      ],
      "metadata": {
        "id": "awmd7fRy8OC2"
      },
      "execution_count": null,
      "outputs": []
    },
    {
      "cell_type": "code",
      "source": [
        "# Subtraction\n",
        "tensor - 10"
      ],
      "metadata": {
        "id": "ubxvgGt28Ru8"
      },
      "execution_count": null,
      "outputs": []
    },
    {
      "cell_type": "code",
      "source": [
        "# Tensorflow built-in functions can also be used\n",
        "tf.multiply(tensor, 10) # < Gives the same result"
      ],
      "metadata": {
        "id": "ao51CS7_8hfe"
      },
      "execution_count": null,
      "outputs": []
    },
    {
      "cell_type": "code",
      "source": [
        "mat1 = tf.constant([[1, 2, 3],\n",
        "                    [4, 5, 6]])\n",
        "mat2 = tf.linalg.matrix_transpose(mat1)\n",
        "\n",
        "tf.linalg.matmul(mat1, mat1, transpose_b=True )"
      ],
      "metadata": {
        "id": "Gh1zvzE6-SGw"
      },
      "execution_count": null,
      "outputs": []
    },
    {
      "cell_type": "code",
      "source": [
        "x = tf.constant([2., 0., 0., 0.])\n",
        "y = tf.constant([-2., 0., 2., 5])\n",
        "\n",
        "tf.math.add_n([x, x, x]) # Adds an \"n\" amount of tensors together\n"
      ],
      "metadata": {
        "id": "wHbT3DSI-5l-"
      },
      "execution_count": null,
      "outputs": []
    },
    {
      "cell_type": "code",
      "source": [
        "tf.math.reciprocal(x) # Calculates the reciprocal\n",
        "tf.math.reciprocal_no_nan(x) # Safe reciprocal calculation (accocunts for zeros)"
      ],
      "metadata": {
        "id": "aiKUpNSSAuCI"
      },
      "execution_count": null,
      "outputs": []
    },
    {
      "cell_type": "code",
      "source": [
        "std1 = tf.constant([1, 1, 5, 10, 13, 20], dtype=tf.float16)  \n",
        "std2 = tf.constant([28, 29, 30, 31, 32], dtype=tf.float16)\n",
        "# -- Has to be float --\n",
        "\n",
        "tf.math.reduce_std(std1), tf.math.reduce_std(std2)"
      ],
      "metadata": {
        "id": "cd5dGwCHBEFv"
      },
      "execution_count": null,
      "outputs": []
    },
    {
      "cell_type": "code",
      "source": [
        "\n",
        "tf.linalg.normalize(tf.constant([1, 2, 3, 4], dtype=tf.float32))"
      ],
      "metadata": {
        "id": "xe4fZszCB-fG"
      },
      "execution_count": null,
      "outputs": []
    },
    {
      "cell_type": "markdown",
      "source": [
        "### ⭐ Matrix Multiplication 1\n",
        "##### 📗 **Matrix Multiplication is one of the most common operations in deep learning**\n",
        "##### There are two rules for out tensors you need to multiply them\n",
        "1. The inner dimensions **must match**\n",
        "2. The resulting matrix has the shaope of the **outer** dimensions"
      ],
      "metadata": {
        "id": "3SPhcKZkhUPY"
      }
    },
    {
      "cell_type": "code",
      "source": [
        "# Matrix multiplication in tensorflow\n",
        "\n",
        "A = tf.constant([[1, 2, 3], \n",
        "                 [4, 5, 6]])\n",
        "B = tf.constant([[6, 5], \n",
        "                 [4, 3],\n",
        "                 [2, 1]])\n",
        "\n",
        "tf.linalg.matmul(A, B)"
      ],
      "metadata": {
        "id": "W0vJpaAbhc95"
      },
      "execution_count": null,
      "outputs": []
    },
    {
      "cell_type": "code",
      "source": [
        "# Just multiplying will not work\n",
        "A * tf.transpose(B) # Done element-wise"
      ],
      "metadata": {
        "id": "6NA_j233jS1D"
      },
      "execution_count": null,
      "outputs": []
    },
    {
      "cell_type": "code",
      "source": [
        "# Done in python with @ operator\n",
        "A @ B # Gives the same output "
      ],
      "metadata": {
        "id": "slhC57_Ij9RR"
      },
      "execution_count": null,
      "outputs": []
    },
    {
      "cell_type": "markdown",
      "source": [
        "##### 📚 **Exercise :** Recreate the matrix mjultiplication on the video and recreate it on tensorflow"
      ],
      "metadata": {
        "id": "ieHyVBPlkTlD"
      }
    },
    {
      "cell_type": "code",
      "source": [
        "# Exercise\n",
        "MatA = tf.constant([[1, 2, 5],\n",
        "                    [7, 2, 1],\n",
        "                    [3, 3, 3]])\n",
        "\n",
        "MatB = tf.constant([[3, 5],\n",
        "                    [6, 7],\n",
        "                    [1, 8]])\n",
        "\n",
        "# Using tensorflow and normal python operator\n",
        "tf.matmul(MatA, MatB), MatA @ MatB"
      ],
      "metadata": {
        "id": "qbodA3PxkNd1"
      },
      "execution_count": null,
      "outputs": []
    },
    {
      "cell_type": "markdown",
      "source": [
        "##### 📖 **Resource**: Information on [Matrix Multiplication](https://www.mathsisfun.com/algebra/matrix-multiplying.html)\n"
      ],
      "metadata": {
        "id": "FIvRSA6LmWZk"
      }
    },
    {
      "cell_type": "code",
      "source": [
        "B.shape, A.shape, (A @ B).shape"
      ],
      "metadata": {
        "id": "xNF9LaYEn4M1"
      },
      "execution_count": null,
      "outputs": []
    },
    {
      "cell_type": "code",
      "source": [
        "# Recreatioin of the example from matrix multiplication source\n",
        "\n",
        "C = tf.constant([[13, 9, 7, 15],\n",
        "                 [8, 7, 4, 6 ],\n",
        "                 [6, 4, 0, 3]])\n",
        "\n",
        "D = tf.constant([3, 4, 2])\n",
        "C = tf.transpose(C)\n",
        "\n",
        "C.shape, D.shape, tf.linalg.matvec(C, D)\n"
      ],
      "metadata": {
        "id": "Lx73u39khy-j"
      },
      "execution_count": null,
      "outputs": []
    },
    {
      "cell_type": "code",
      "source": [
        "X = tf.constant([[1, 2, 3],\n",
        "                 [4, 5, 6],\n",
        "                 [7, 8, 9]])\n",
        "\n",
        "Y = tf.constant([[1, 2, 3],\n",
        "                 [4, 5, 6]])\n",
        "\n",
        "X @ Y # Gives invalid matrix error"
      ],
      "metadata": {
        "id": "IcLl77dSp-CF"
      },
      "execution_count": null,
      "outputs": []
    },
    {
      "cell_type": "code",
      "source": [
        "X.shape, Y.shape\n",
        "# Get the shapes of the matricies\n",
        "# ^ Inner numbers do not match\n",
        "\n",
        "# Reshape Y\n",
        "Ynew = tf.reshape(Y, shape=(3, 2))\n",
        "\n",
        "tf.matmul(X, Ynew)"
      ],
      "metadata": {
        "id": "SnGKK-IkqsFF"
      },
      "execution_count": null,
      "outputs": []
    },
    {
      "cell_type": "code",
      "source": [
        "MatrixA = tf.constant([[1, 2],\n",
        "                       [1, 2],\n",
        "                       [1, 2]])\n",
        "\n",
        "MatrixB = tf.constant([[1, 2],\n",
        "                       [1, 2],\n",
        "                       [1, 2]])\n"
      ],
      "metadata": {
        "id": "mk3EOu1YsNbs"
      },
      "execution_count": null,
      "outputs": []
    },
    {
      "cell_type": "code",
      "source": [
        "# This is MatA * MatB\n",
        "MatrixA.shape, MatrixB.shape, MatrixA @ tf.reshape(MatrixB, shape=(2, 3))"
      ],
      "metadata": {
        "id": "KpFuteJYse8E"
      },
      "execution_count": null,
      "outputs": []
    },
    {
      "cell_type": "code",
      "source": [
        "# This is MatB * MatA\n",
        "MatrixA.shape, MatrixB.shape, tf.reshape(MatrixA, shape=(2, 3)) @ MatrixB\n",
        "\n",
        "# Both MatA * MatB and MatB * MatA give two different values\n",
        "# therefore AB != BAf"
      ],
      "metadata": {
        "id": "M0atGERfs3Sj"
      },
      "execution_count": null,
      "outputs": []
    },
    {
      "cell_type": "code",
      "source": [
        "# Try matrix multiplication with transpose instead of reshape\n",
        "MatrixA.shape, MatrixB.shape, tf.transpose(MatrixA) @ MatrixB"
      ],
      "metadata": {
        "id": "3Hor0p3gvFOR"
      },
      "execution_count": null,
      "outputs": []
    },
    {
      "cell_type": "code",
      "source": [
        "MatrixA.shape, MatrixB.shape, MatrixA @ tf.transpose(MatrixB)"
      ],
      "metadata": {
        "id": "LgQGFl1PvQ2l"
      },
      "execution_count": null,
      "outputs": []
    },
    {
      "cell_type": "code",
      "source": [
        ""
      ],
      "metadata": {
        "id": "I3m-7Y7_1tGd"
      },
      "execution_count": null,
      "outputs": []
    },
    {
      "cell_type": "markdown",
      "source": [
        "### ⭐ The dot product\n",
        "\n",
        "Matrix Multiplication is also referred to as the dot product.\n",
        "\n",
        "You can perform matrix multiplication using:\n",
        "* `tf.matmul` (matrix multiplication)\n",
        "* `tf.tensordot` (tensor fot product)"
      ],
      "metadata": {
        "id": "6CDkkAJr18dG"
      }
    },
    {
      "cell_type": "code",
      "source": [
        "X = tf.constant([[1, 2],\n",
        "                 [3, 4],\n",
        "                 [5, 6]])\n",
        "Y = tf.constant([[7, 8 ], \n",
        "                [9, 10],\n",
        "                [11, 12]])\n",
        "\n",
        "X, Y"
      ],
      "metadata": {
        "colab": {
          "base_uri": "https://localhost:8080/"
        },
        "id": "tGacmp9e2Cmr",
        "outputId": "93f2a3cc-e63a-47d7-fab1-082ad062e7ab"
      },
      "execution_count": null,
      "outputs": [
        {
          "output_type": "execute_result",
          "data": {
            "text/plain": [
              "(<tf.Tensor: shape=(3, 2), dtype=int32, numpy=\n",
              " array([[1, 2],\n",
              "        [3, 4],\n",
              "        [5, 6]], dtype=int32)>, <tf.Tensor: shape=(3, 2), dtype=int32, numpy=\n",
              " array([[ 7,  8],\n",
              "        [ 9, 10],\n",
              "        [11, 12]], dtype=int32)>)"
            ]
          },
          "metadata": {},
          "execution_count": 16
        }
      ]
    },
    {
      "cell_type": "code",
      "source": [
        "tf.tensordot(tf.transpose(X), Y, axes=1)"
      ],
      "metadata": {
        "colab": {
          "base_uri": "https://localhost:8080/"
        },
        "id": "kSPUZ4gB3xx6",
        "outputId": "3034a00a-3c53-47da-b41d-0557df38c6ce"
      },
      "execution_count": null,
      "outputs": [
        {
          "output_type": "execute_result",
          "data": {
            "text/plain": [
              "<tf.Tensor: shape=(2, 2), dtype=int32, numpy=\n",
              "array([[ 89,  98],\n",
              "       [116, 128]], dtype=int32)>"
            ]
          },
          "metadata": {},
          "execution_count": 17
        }
      ]
    },
    {
      "cell_type": "code",
      "source": [
        "# matrix multiplication with Y being transposed\n",
        "tf.matmul(X, tf.transpose(Y))"
      ],
      "metadata": {
        "colab": {
          "base_uri": "https://localhost:8080/"
        },
        "id": "NxgKgLlZ4jVl",
        "outputId": "12996b97-70fc-4526-d79b-bbf57b483f64"
      },
      "execution_count": null,
      "outputs": [
        {
          "output_type": "execute_result",
          "data": {
            "text/plain": [
              "<tf.Tensor: shape=(3, 3), dtype=int32, numpy=\n",
              "array([[ 23,  29,  35],\n",
              "       [ 53,  67,  81],\n",
              "       [ 83, 105, 127]], dtype=int32)>"
            ]
          },
          "metadata": {},
          "execution_count": 18
        }
      ]
    },
    {
      "cell_type": "code",
      "source": [
        "# Matrix multiplication with Y being reshaped\n",
        "tf.matmul(X, tf.reshape(Y, shape=(2, 3)))"
      ],
      "metadata": {
        "colab": {
          "base_uri": "https://localhost:8080/"
        },
        "id": "muTzpeHQ56m2",
        "outputId": "d599d60d-7e07-43c3-d823-31e39e30b1d8"
      },
      "execution_count": null,
      "outputs": [
        {
          "output_type": "execute_result",
          "data": {
            "text/plain": [
              "<tf.Tensor: shape=(3, 3), dtype=int32, numpy=\n",
              "array([[ 27,  30,  33],\n",
              "       [ 61,  68,  75],\n",
              "       [ 95, 106, 117]], dtype=int32)>"
            ]
          },
          "metadata": {},
          "execution_count": 19
        }
      ]
    },
    {
      "cell_type": "markdown",
      "source": [
        "##### 🔑 **Note:** **Transpose** flips the tensor over an axis while **reshape** changes shuffles the values in the tensor"
      ],
      "metadata": {
        "id": "sUlhUmGg6HSV"
      }
    },
    {
      "cell_type": "code",
      "source": [
        "# Check the values of Y, reshaped Y and transposed Y\n",
        "print(\"----Normal Y----\")\n",
        "print(Y, \"\\n\")\n",
        "\n",
        "print(\"----Reshaped Y----\")\n",
        "print(tf.reshape(Y, shape=[2, 3]), \"\\n\")\n",
        "\n",
        "print(\"----Transposed Y----\")\n",
        "print(tf.transpose(Y), \"\\n\")"
      ],
      "metadata": {
        "colab": {
          "base_uri": "https://localhost:8080/"
        },
        "id": "vJ-wwrwF68Ol",
        "outputId": "075445dd-8cf7-490d-bfb8-281e9d70e6b3"
      },
      "execution_count": null,
      "outputs": [
        {
          "output_type": "stream",
          "name": "stdout",
          "text": [
            "----Normal Y----\n",
            "tf.Tensor(\n",
            "[[ 7  8]\n",
            " [ 9 10]\n",
            " [11 12]], shape=(3, 2), dtype=int32) \n",
            "\n",
            "----Reshaped Y----\n",
            "tf.Tensor(\n",
            "[[ 7  8  9]\n",
            " [10 11 12]], shape=(2, 3), dtype=int32) \n",
            "\n",
            "----Transposed Y----\n",
            "tf.Tensor(\n",
            "[[ 7  9 11]\n",
            " [ 8 10 12]], shape=(2, 3), dtype=int32) \n",
            "\n"
          ]
        }
      ]
    },
    {
      "cell_type": "markdown",
      "source": [
        "##### 🔑 **Note:** Usually when performing matrix multiplcation on two tensor and one of the axes does not like up, you will transpose instead of reshape to satisfy the matrix multiplication rules"
      ],
      "metadata": {
        "id": "--Czzv2R-gP1"
      }
    },
    {
      "cell_type": "markdown",
      "source": [
        "### ⭐ Changing the datatype of a tensor"
      ],
      "metadata": {
        "id": "T4tWpZ6XDCUM"
      }
    },
    {
      "cell_type": "code",
      "source": [
        "# Create a new tensor with default datatype (float32)\n",
        "B = tf.constant([2.2, 5.8])\n",
        "B.dtype"
      ],
      "metadata": {
        "colab": {
          "base_uri": "https://localhost:8080/"
        },
        "id": "JjEnlv2CDBYW",
        "outputId": "6724153e-1a17-46e6-9b5b-950201ab3c20"
      },
      "execution_count": null,
      "outputs": [
        {
          "output_type": "execute_result",
          "data": {
            "text/plain": [
              "tf.float32"
            ]
          },
          "metadata": {},
          "execution_count": 21
        }
      ]
    },
    {
      "cell_type": "code",
      "source": [
        "C = tf.constant([7, 10])\n",
        "C.dtype"
      ],
      "metadata": {
        "colab": {
          "base_uri": "https://localhost:8080/"
        },
        "id": "zEsTH91sDeBs",
        "outputId": "1c603c43-c307-4ecb-ee26-d516a9a2f41d"
      },
      "execution_count": null,
      "outputs": [
        {
          "output_type": "execute_result",
          "data": {
            "text/plain": [
              "tf.int32"
            ]
          },
          "metadata": {},
          "execution_count": 22
        }
      ]
    },
    {
      "cell_type": "code",
      "source": [
        "# Change from float32 to float16 (reduced precision)\n",
        "B = tf.cast(B, dtype=tf.float16)\n",
        "B, B.dtype"
      ],
      "metadata": {
        "id": "k1yC34wCDqML",
        "colab": {
          "base_uri": "https://localhost:8080/"
        },
        "outputId": "6dbf267e-cbfe-40fe-c793-f7040657a26d"
      },
      "execution_count": null,
      "outputs": [
        {
          "output_type": "execute_result",
          "data": {
            "text/plain": [
              "(<tf.Tensor: shape=(2,), dtype=float16, numpy=array([2.2, 5.8], dtype=float16)>,\n",
              " tf.float16)"
            ]
          },
          "metadata": {},
          "execution_count": 23
        }
      ]
    },
    {
      "cell_type": "code",
      "source": [
        "# Change from int32 to float32\n",
        "D = tf.cast(C, dtype=tf.float32)\n",
        "D"
      ],
      "metadata": {
        "colab": {
          "base_uri": "https://localhost:8080/"
        },
        "id": "rRNaH_uO1PcF",
        "outputId": "fcd31556-7c14-4243-ea40-fdf17cb569e4"
      },
      "execution_count": null,
      "outputs": [
        {
          "output_type": "execute_result",
          "data": {
            "text/plain": [
              "<tf.Tensor: shape=(2,), dtype=float32, numpy=array([ 7., 10.], dtype=float32)>"
            ]
          },
          "metadata": {},
          "execution_count": 24
        }
      ]
    },
    {
      "cell_type": "code",
      "source": [
        "D_float16 = tf.cast(D, dtype=tf.float16)\n",
        "D_float16"
      ],
      "metadata": {
        "colab": {
          "base_uri": "https://localhost:8080/"
        },
        "id": "K4faR89A15Bw",
        "outputId": "f99a78ba-d9db-4850-a409-134011830a41"
      },
      "execution_count": null,
      "outputs": [
        {
          "output_type": "execute_result",
          "data": {
            "text/plain": [
              "<tf.Tensor: shape=(2,), dtype=float16, numpy=array([ 7., 10.], dtype=float16)>"
            ]
          },
          "metadata": {},
          "execution_count": 25
        }
      ]
    },
    {
      "cell_type": "markdown",
      "source": [
        "### ⭐ Aggregating tensors"
      ],
      "metadata": {
        "id": "A-iW8U4m2NQq"
      }
    },
    {
      "cell_type": "code",
      "source": [
        "# Get the absolute values\n",
        "D = tf.constant([-7, -10])\n",
        "D"
      ],
      "metadata": {
        "id": "Bbjwjzuw2Sjs",
        "colab": {
          "base_uri": "https://localhost:8080/"
        },
        "outputId": "b8273c08-ed78-4707-a904-fb284ee9bb4f"
      },
      "execution_count": null,
      "outputs": [
        {
          "output_type": "execute_result",
          "data": {
            "text/plain": [
              "<tf.Tensor: shape=(2,), dtype=int32, numpy=array([ -7, -10], dtype=int32)>"
            ]
          },
          "metadata": {},
          "execution_count": 26
        }
      ]
    },
    {
      "cell_type": "code",
      "source": [
        "# Get the absolute value\n",
        "tf.abs(D)"
      ],
      "metadata": {
        "colab": {
          "base_uri": "https://localhost:8080/"
        },
        "id": "_owtmHLpGxOB",
        "outputId": "d853d6f6-f5e4-4e77-fd40-2ab0a5ee5d90"
      },
      "execution_count": null,
      "outputs": [
        {
          "output_type": "execute_result",
          "data": {
            "text/plain": [
              "<tf.Tensor: shape=(2,), dtype=int32, numpy=array([ 7, 10], dtype=int32)>"
            ]
          },
          "metadata": {},
          "execution_count": 27
        }
      ]
    },
    {
      "cell_type": "markdown",
      "source": [
        "📗 Forms of tensor aggregation:\n",
        "* Get tensor min\n",
        "* Get tensor max \n",
        "* Get tensor mean\n",
        "* Get sum of tensor"
      ],
      "metadata": {
        "id": "idKYbt2GH2HX"
      }
    },
    {
      "cell_type": "code",
      "source": [
        "# Get mean\n",
        "D = tf.constant([-4, -10])\n",
        "tf.reduce_mean(D)"
      ],
      "metadata": {
        "colab": {
          "base_uri": "https://localhost:8080/"
        },
        "id": "Ipu-8QPgIG_Y",
        "outputId": "b1befb40-1806-4f05-a318-8c1dff377e77"
      },
      "execution_count": null,
      "outputs": [
        {
          "output_type": "execute_result",
          "data": {
            "text/plain": [
              "<tf.Tensor: shape=(), dtype=int32, numpy=-7>"
            ]
          },
          "metadata": {},
          "execution_count": 28
        }
      ]
    },
    {
      "cell_type": "code",
      "source": [
        "# Get max\n",
        "tf.reduce_max(D)"
      ],
      "metadata": {
        "colab": {
          "base_uri": "https://localhost:8080/"
        },
        "id": "92_lC3hMIm4w",
        "outputId": "9797f8d5-e064-416a-b83f-77aef032ab59"
      },
      "execution_count": null,
      "outputs": [
        {
          "output_type": "execute_result",
          "data": {
            "text/plain": [
              "<tf.Tensor: shape=(), dtype=int32, numpy=-4>"
            ]
          },
          "metadata": {},
          "execution_count": 29
        }
      ]
    },
    {
      "cell_type": "code",
      "source": [
        "# Get min\n",
        "tf.reduce_min(D)"
      ],
      "metadata": {
        "colab": {
          "base_uri": "https://localhost:8080/"
        },
        "id": "xnWQnkULIsb1",
        "outputId": "5c362d7a-a84e-4801-afb7-edf6216b719b"
      },
      "execution_count": null,
      "outputs": [
        {
          "output_type": "execute_result",
          "data": {
            "text/plain": [
              "<tf.Tensor: shape=(), dtype=int32, numpy=-10>"
            ]
          },
          "metadata": {},
          "execution_count": 30
        }
      ]
    },
    {
      "cell_type": "code",
      "source": [
        "# Get sum\n",
        "tf.reduce_sum(D)"
      ],
      "metadata": {
        "colab": {
          "base_uri": "https://localhost:8080/"
        },
        "id": "Il16KbGhIyuX",
        "outputId": "425d33bc-9f03-4dca-aace-b63cfe78f7ca"
      },
      "execution_count": null,
      "outputs": [
        {
          "output_type": "execute_result",
          "data": {
            "text/plain": [
              "<tf.Tensor: shape=(), dtype=int32, numpy=-14>"
            ]
          },
          "metadata": {},
          "execution_count": 31
        }
      ]
    },
    {
      "cell_type": "code",
      "source": [
        "# new tensor with random values\n",
        "import numpy as np\n",
        "# You could either cast the datatype of the tensor or generate a random array and convert it to a tensor\n",
        "\n",
        "randarr = np.random.uniform(low=0.5, high=13.3, size=(50))\n",
        "\n",
        "E = tf.constant(randarr)\n",
        "E = tf.cast(E, dtype=tf.float32)\n",
        "\n",
        "E.shape, tf.size(E), E.ndim"
      ],
      "metadata": {
        "colab": {
          "base_uri": "https://localhost:8080/"
        },
        "id": "aSuYgQraJMT-",
        "outputId": "52f41666-7105-4a7d-a687-a1c7c5cce395"
      },
      "execution_count": null,
      "outputs": [
        {
          "output_type": "execute_result",
          "data": {
            "text/plain": [
              "(TensorShape([50]), <tf.Tensor: shape=(), dtype=int32, numpy=50>, 1)"
            ]
          },
          "metadata": {},
          "execution_count": 32
        }
      ]
    },
    {
      "cell_type": "markdown",
      "source": [
        "##### 📚 **Exercise:** Using what you have learnt, find the variance and standard deviation of the tensor `E` using the tensorflow methods"
      ],
      "metadata": {
        "id": "K4Ccc9br4fMz"
      }
    },
    {
      "cell_type": "code",
      "source": [
        "tf.math.reduce_variance(E), tf.math.reduce_std(E)"
      ],
      "metadata": {
        "colab": {
          "base_uri": "https://localhost:8080/"
        },
        "id": "WOUMUaMVKCwG",
        "outputId": "6bb03c9e-ed5e-4e21-e13f-dd21669335fa"
      },
      "execution_count": null,
      "outputs": [
        {
          "output_type": "execute_result",
          "data": {
            "text/plain": [
              "(<tf.Tensor: shape=(), dtype=float32, numpy=13.285015>,\n",
              " <tf.Tensor: shape=(), dtype=float32, numpy=3.6448615>)"
            ]
          },
          "metadata": {},
          "execution_count": 33
        }
      ]
    },
    {
      "cell_type": "markdown",
      "source": [
        "##### You can also use the tensorflow probability library"
      ],
      "metadata": {
        "id": "JPF2QaPe5PGl"
      }
    },
    {
      "cell_type": "code",
      "source": [
        "import tensorflow_probability as tfp\n",
        "\n",
        "tfp.stats.variance(E), tfp.stats.stddev(E)"
      ],
      "metadata": {
        "colab": {
          "base_uri": "https://localhost:8080/"
        },
        "id": "lr9WsdqhL8dB",
        "outputId": "8c6397c3-d0ee-49c4-9b48-15a681c0ba3c"
      },
      "execution_count": null,
      "outputs": [
        {
          "output_type": "execute_result",
          "data": {
            "text/plain": [
              "(<tf.Tensor: shape=(), dtype=float32, numpy=13.285015>,\n",
              " <tf.Tensor: shape=(), dtype=float32, numpy=3.6448615>)"
            ]
          },
          "metadata": {},
          "execution_count": 34
        }
      ]
    },
    {
      "cell_type": "markdown",
      "source": [
        "### ⭐ Find the positional, maximum, minimum"
      ],
      "metadata": {
        "id": "HDQQGSbW7G5d"
      }
    },
    {
      "cell_type": "code",
      "source": [
        "tf.random.set_seed(42)\n",
        "F = tf.random.uniform(shape=[50])\n",
        "F"
      ],
      "metadata": {
        "colab": {
          "base_uri": "https://localhost:8080/"
        },
        "id": "RlEbW0wzQ3jI",
        "outputId": "e3c19397-3adc-4baf-8f90-67389bb0b350"
      },
      "execution_count": null,
      "outputs": [
        {
          "output_type": "execute_result",
          "data": {
            "text/plain": [
              "<tf.Tensor: shape=(50,), dtype=float32, numpy=\n",
              "array([0.6645621 , 0.44100678, 0.3528825 , 0.46448255, 0.03366041,\n",
              "       0.68467236, 0.74011743, 0.8724445 , 0.22632635, 0.22319686,\n",
              "       0.3103881 , 0.7223358 , 0.13318717, 0.5480639 , 0.5746088 ,\n",
              "       0.8996835 , 0.00946367, 0.5212307 , 0.6345445 , 0.1993283 ,\n",
              "       0.72942245, 0.54583454, 0.10756552, 0.6767061 , 0.6602763 ,\n",
              "       0.33695042, 0.60141766, 0.21062577, 0.8527372 , 0.44062173,\n",
              "       0.9485276 , 0.23752594, 0.81179297, 0.5263394 , 0.494308  ,\n",
              "       0.21612847, 0.8457197 , 0.8718841 , 0.3083862 , 0.6868038 ,\n",
              "       0.23764038, 0.7817228 , 0.9671384 , 0.06870162, 0.79873943,\n",
              "       0.66028714, 0.5871513 , 0.16461694, 0.7381023 , 0.32054043],\n",
              "      dtype=float32)>"
            ]
          },
          "metadata": {},
          "execution_count": 35
        }
      ]
    },
    {
      "cell_type": "code",
      "source": [
        "# Finds the indixes of the maximum and minimum value in the tensor\n",
        "tf.math.argmax(F), tf.math.argmin(F)"
      ],
      "metadata": {
        "colab": {
          "base_uri": "https://localhost:8080/"
        },
        "id": "T9OKv_HsSlLs",
        "outputId": "cf55f0f3-583b-448f-8692-11f7ee77d9c1"
      },
      "execution_count": null,
      "outputs": [
        {
          "output_type": "execute_result",
          "data": {
            "text/plain": [
              "(<tf.Tensor: shape=(), dtype=int64, numpy=42>,\n",
              " <tf.Tensor: shape=(), dtype=int64, numpy=16>)"
            ]
          },
          "metadata": {},
          "execution_count": 36
        }
      ]
    },
    {
      "cell_type": "code",
      "source": [
        "F[tf.math.argmax(F)], tf.reduce_max(F),"
      ],
      "metadata": {
        "colab": {
          "base_uri": "https://localhost:8080/"
        },
        "id": "E8CH_l4cTDqR",
        "outputId": "8421dbe0-4803-4476-cf10-190bde6dee3d"
      },
      "execution_count": null,
      "outputs": [
        {
          "output_type": "execute_result",
          "data": {
            "text/plain": [
              "(<tf.Tensor: shape=(), dtype=float32, numpy=0.9671384>,\n",
              " <tf.Tensor: shape=(), dtype=float32, numpy=0.9671384>)"
            ]
          },
          "metadata": {},
          "execution_count": 37
        }
      ]
    },
    {
      "cell_type": "code",
      "source": [
        "# Check for euqality\n",
        "F[tf.math.argmax(F)] == tf.reduce_max(F)"
      ],
      "metadata": {
        "id": "4cfnpz4lTYpV",
        "outputId": "65176c93-114f-4578-c1c4-fb1a30246db8",
        "colab": {
          "base_uri": "https://localhost:8080/"
        }
      },
      "execution_count": null,
      "outputs": [
        {
          "output_type": "execute_result",
          "data": {
            "text/plain": [
              "<tf.Tensor: shape=(), dtype=bool, numpy=True>"
            ]
          },
          "metadata": {},
          "execution_count": 38
        }
      ]
    },
    {
      "cell_type": "code",
      "source": [
        ""
      ],
      "metadata": {
        "id": "iRE9kH5SBek2"
      },
      "execution_count": null,
      "outputs": []
    },
    {
      "cell_type": "markdown",
      "source": [
        "### ⭐ Squeezing a tensor (removing all single dimensions)"
      ],
      "metadata": {
        "id": "hoZk6hQYGGi8"
      }
    },
    {
      "cell_type": "code",
      "source": [
        "# Create a tensor to get started\n",
        "tf.random.set_seed(24)\n",
        "G = tf.constant(tf.random.uniform(shape=[50]), shape=[1, 1, 1, 1, 1, 1, 1, 50])\n",
        "G, G.shape"
      ],
      "metadata": {
        "colab": {
          "base_uri": "https://localhost:8080/"
        },
        "id": "rAFLXVFuGR-F",
        "outputId": "56b8e0b3-ede1-41fe-e267-b3b58b9e0c7d"
      },
      "execution_count": null,
      "outputs": [
        {
          "output_type": "execute_result",
          "data": {
            "text/plain": [
              "(<tf.Tensor: shape=(1, 1, 1, 1, 1, 1, 1, 50), dtype=float32, numpy=\n",
              " array([[[[[[[[0.10927987, 0.26020873, 0.7633631 , 0.9664098 ,\n",
              "               0.6704161 , 0.5704179 , 0.11284781, 0.3750646 ,\n",
              "               0.65140796, 0.25983608, 0.5361136 , 0.03527319,\n",
              "               0.08702004, 0.8614912 , 0.25407887, 0.92887473,\n",
              "               0.6599686 , 0.14698923, 0.3613621 , 0.9529114 ,\n",
              "               0.5932065 , 0.9703479 , 0.9276773 , 0.79924107,\n",
              "               0.21676326, 0.05454433, 0.2114675 , 0.38505208,\n",
              "               0.23774743, 0.13890004, 0.22140944, 0.6960819 ,\n",
              "               0.92024565, 0.35530853, 0.30598998, 0.72012484,\n",
              "               0.45592606, 0.48967016, 0.98957   , 0.92758965,\n",
              "               0.1983006 , 0.4531387 , 0.01492548, 0.5888916 ,\n",
              "               0.33539438, 0.39484882, 0.31613898, 0.91811156,\n",
              "               0.6128372 , 0.6474602 ]]]]]]]], dtype=float32)>,\n",
              " TensorShape([1, 1, 1, 1, 1, 1, 1, 50]))"
            ]
          },
          "metadata": {},
          "execution_count": 39
        }
      ]
    },
    {
      "cell_type": "code",
      "source": [
        "G = tf.squeeze(G)\n",
        "G, G.shape"
      ],
      "metadata": {
        "colab": {
          "base_uri": "https://localhost:8080/"
        },
        "id": "NSPxKf5uIlOM",
        "outputId": "bdbcf903-ec3a-4c37-9064-a6c92ee32d59"
      },
      "execution_count": null,
      "outputs": [
        {
          "output_type": "execute_result",
          "data": {
            "text/plain": [
              "(<tf.Tensor: shape=(50,), dtype=float32, numpy=\n",
              " array([0.10927987, 0.26020873, 0.7633631 , 0.9664098 , 0.6704161 ,\n",
              "        0.5704179 , 0.11284781, 0.3750646 , 0.65140796, 0.25983608,\n",
              "        0.5361136 , 0.03527319, 0.08702004, 0.8614912 , 0.25407887,\n",
              "        0.92887473, 0.6599686 , 0.14698923, 0.3613621 , 0.9529114 ,\n",
              "        0.5932065 , 0.9703479 , 0.9276773 , 0.79924107, 0.21676326,\n",
              "        0.05454433, 0.2114675 , 0.38505208, 0.23774743, 0.13890004,\n",
              "        0.22140944, 0.6960819 , 0.92024565, 0.35530853, 0.30598998,\n",
              "        0.72012484, 0.45592606, 0.48967016, 0.98957   , 0.92758965,\n",
              "        0.1983006 , 0.4531387 , 0.01492548, 0.5888916 , 0.33539438,\n",
              "        0.39484882, 0.31613898, 0.91811156, 0.6128372 , 0.6474602 ],\n",
              "       dtype=float32)>, TensorShape([50]))"
            ]
          },
          "metadata": {},
          "execution_count": 40
        }
      ]
    },
    {
      "cell_type": "code",
      "source": [
        "H = tf.random.uniform(shape=[2, 1, 1, 2])\n",
        "H, H.shape"
      ],
      "metadata": {
        "colab": {
          "base_uri": "https://localhost:8080/"
        },
        "id": "QIjyN4KLKD39",
        "outputId": "66ab2bb0-d682-4c69-e291-f39e399c1119"
      },
      "execution_count": null,
      "outputs": [
        {
          "output_type": "execute_result",
          "data": {
            "text/plain": [
              "(<tf.Tensor: shape=(2, 1, 1, 2), dtype=float32, numpy=\n",
              " array([[[[0.8875979 , 0.0716151 ]]],\n",
              " \n",
              " \n",
              "        [[[0.38931954, 0.52773523]]]], dtype=float32)>,\n",
              " TensorShape([2, 1, 1, 2]))"
            ]
          },
          "metadata": {},
          "execution_count": 41
        }
      ]
    },
    {
      "cell_type": "code",
      "source": [
        "H = tf.squeeze(H)\n",
        "H, H.shape"
      ],
      "metadata": {
        "id": "73XOhWnLKWR6",
        "outputId": "c0a6b384-da4c-42c5-f39f-9d97d1d9e752",
        "colab": {
          "base_uri": "https://localhost:8080/"
        }
      },
      "execution_count": null,
      "outputs": [
        {
          "output_type": "execute_result",
          "data": {
            "text/plain": [
              "(<tf.Tensor: shape=(2, 2), dtype=float32, numpy=\n",
              " array([[0.8875979 , 0.0716151 ],\n",
              "        [0.38931954, 0.52773523]], dtype=float32)>, TensorShape([2, 2]))"
            ]
          },
          "metadata": {},
          "execution_count": 42
        }
      ]
    },
    {
      "cell_type": "markdown",
      "source": [
        "### ⭐ One hot encoding"
      ],
      "metadata": {
        "id": "2b1A87QC-U2e"
      }
    },
    {
      "cell_type": "code",
      "source": [
        "# indicies\n",
        "indicies = [0, 1, 2, 3]\n",
        "\n",
        "# One hot encoding\n",
        "one_hot = tf.one_hot(indicies, depth=4, dtype=tf.float16)\n",
        "one_hot"
      ],
      "metadata": {
        "colab": {
          "base_uri": "https://localhost:8080/"
        },
        "id": "xvhC0zsA-ZqV",
        "outputId": "9fbf82d7-1109-499e-fcef-9c244aa2e91d"
      },
      "execution_count": null,
      "outputs": [
        {
          "output_type": "execute_result",
          "data": {
            "text/plain": [
              "<tf.Tensor: shape=(4, 4), dtype=float16, numpy=\n",
              "array([[1., 0., 0., 0.],\n",
              "       [0., 1., 0., 0.],\n",
              "       [0., 0., 1., 0.],\n",
              "       [0., 0., 0., 1.]], dtype=float16)>"
            ]
          },
          "metadata": {},
          "execution_count": 59
        }
      ]
    },
    {
      "cell_type": "code",
      "source": [
        "# Can change the on and off values of the one hot encoding\n",
        "tf.one_hot(indicies, depth=4, on_value=0.5, off_value=-0.5)"
      ],
      "metadata": {
        "colab": {
          "base_uri": "https://localhost:8080/"
        },
        "id": "yL5RTMFcnikE",
        "outputId": "dbc95336-0ec0-40db-b77b-55a61e17b83e"
      },
      "execution_count": null,
      "outputs": [
        {
          "output_type": "execute_result",
          "data": {
            "text/plain": [
              "<tf.Tensor: shape=(4, 4), dtype=float32, numpy=\n",
              "array([[ 0.5, -0.5, -0.5, -0.5],\n",
              "       [-0.5,  0.5, -0.5, -0.5],\n",
              "       [-0.5, -0.5,  0.5, -0.5],\n",
              "       [-0.5, -0.5, -0.5,  0.5]], dtype=float32)>"
            ]
          },
          "metadata": {},
          "execution_count": 54
        }
      ]
    },
    {
      "cell_type": "markdown",
      "source": [
        "### ⭐ More tensorflow math operations"
      ],
      "metadata": {
        "id": "-7V7FsF_qigH"
      }
    },
    {
      "cell_type": "code",
      "source": [
        "H = tf.range(1, 10, dtype=tf.float32)\n",
        "H"
      ],
      "metadata": {
        "colab": {
          "base_uri": "https://localhost:8080/"
        },
        "id": "mGJoqgfNqsBC",
        "outputId": "20ef8fa7-3879-4ae7-8c1d-bf5e975c0299"
      },
      "execution_count": null,
      "outputs": [
        {
          "output_type": "execute_result",
          "data": {
            "text/plain": [
              "<tf.Tensor: shape=(9,), dtype=float32, numpy=array([1., 2., 3., 4., 5., 6., 7., 8., 9.], dtype=float32)>"
            ]
          },
          "metadata": {},
          "execution_count": 64
        }
      ]
    },
    {
      "cell_type": "code",
      "source": [
        "# Square the tensor\n",
        "tf.math.square(H)"
      ],
      "metadata": {
        "colab": {
          "base_uri": "https://localhost:8080/"
        },
        "id": "wh1neqK9q0b2",
        "outputId": "15a52295-2b58-4e36-b131-beff0f2e1715"
      },
      "execution_count": null,
      "outputs": [
        {
          "output_type": "execute_result",
          "data": {
            "text/plain": [
              "<tf.Tensor: shape=(9,), dtype=int32, numpy=array([ 1,  4,  9, 16, 25, 36, 49, 64, 81], dtype=int32)>"
            ]
          },
          "metadata": {},
          "execution_count": 62
        }
      ]
    },
    {
      "cell_type": "code",
      "source": [
        "# Square root (requires non int type)\n",
        "tf.math.sqrt(H) "
      ],
      "metadata": {
        "colab": {
          "base_uri": "https://localhost:8080/"
        },
        "id": "qeGvp_4Bq_tS",
        "outputId": "1785c2ec-5b18-47d7-8320-282e0ede3b38"
      },
      "execution_count": null,
      "outputs": [
        {
          "output_type": "execute_result",
          "data": {
            "text/plain": [
              "<tf.Tensor: shape=(9,), dtype=float32, numpy=\n",
              "array([0.99999994, 1.4142134 , 1.7320508 , 1.9999999 , 2.236068  ,\n",
              "       2.4494896 , 2.6457512 , 2.8284268 , 3.        ], dtype=float32)>"
            ]
          },
          "metadata": {},
          "execution_count": 65
        }
      ]
    },
    {
      "cell_type": "code",
      "source": [
        "# Log\n",
        "tf.math.log(H)"
      ],
      "metadata": {
        "colab": {
          "base_uri": "https://localhost:8080/"
        },
        "id": "njtELKolri7d",
        "outputId": "f3e53685-5742-4a0f-c9de-cd102ce18de0"
      },
      "execution_count": null,
      "outputs": [
        {
          "output_type": "execute_result",
          "data": {
            "text/plain": [
              "<tf.Tensor: shape=(9,), dtype=float32, numpy=\n",
              "array([0.       , 0.6931472, 1.0986123, 1.3862944, 1.609438 , 1.7917595,\n",
              "       1.9459102, 2.0794415, 2.1972246], dtype=float32)>"
            ]
          },
          "metadata": {},
          "execution_count": 66
        }
      ]
    },
    {
      "cell_type": "code",
      "source": [
        "# compare 2 tensors\n",
        "I = tf.constant([[1, 2, 3], \n",
        "                 [4, 5, 6]])\n",
        "J = tf.constant([[1, 2, 3],\n",
        "                 [1, 2, 3]])\n",
        "\n",
        "# Finds x < y element-wise\n",
        "tf.math.less(J, I)"
      ],
      "metadata": {
        "colab": {
          "base_uri": "https://localhost:8080/"
        },
        "id": "EdxIA_QNsMWt",
        "outputId": "98a0f4f7-faac-4848-dccb-da9a1bd07f8c"
      },
      "execution_count": null,
      "outputs": [
        {
          "output_type": "execute_result",
          "data": {
            "text/plain": [
              "<tf.Tensor: shape=(2, 3), dtype=bool, numpy=\n",
              "array([[False, False, False],\n",
              "       [ True,  True,  True]])>"
            ]
          },
          "metadata": {},
          "execution_count": 68
        }
      ]
    },
    {
      "cell_type": "code",
      "source": [
        "I = tf.cast(I, dtype=tf.double)\n",
        "\n",
        "# cos\n",
        "tf.math.cos(I)"
      ],
      "metadata": {
        "colab": {
          "base_uri": "https://localhost:8080/"
        },
        "id": "TGGuQmn2slMd",
        "outputId": "75c7a623-8513-4089-adac-efb4d788e181"
      },
      "execution_count": null,
      "outputs": [
        {
          "output_type": "execute_result",
          "data": {
            "text/plain": [
              "<tf.Tensor: shape=(2, 3), dtype=float64, numpy=\n",
              "array([[ 0.54030231, -0.41614684, -0.9899925 ],\n",
              "       [-0.65364362,  0.28366219,  0.96017029]])>"
            ]
          },
          "metadata": {},
          "execution_count": 70
        }
      ]
    },
    {
      "cell_type": "code",
      "source": [
        "J = tf.cast(J, dtype=tf.float16)\n",
        "\n",
        "# reciprocal\n",
        "tf.math.reciprocal(J)"
      ],
      "metadata": {
        "colab": {
          "base_uri": "https://localhost:8080/"
        },
        "id": "ujUcuPNJtCUe",
        "outputId": "8cb34f61-2782-4ff5-bc3c-b6287e3c364e"
      },
      "execution_count": null,
      "outputs": [
        {
          "output_type": "execute_result",
          "data": {
            "text/plain": [
              "<tf.Tensor: shape=(2, 3), dtype=float16, numpy=\n",
              "array([[1.    , 0.5   , 0.3333],\n",
              "       [1.    , 0.5   , 0.3333]], dtype=float16)>"
            ]
          },
          "metadata": {},
          "execution_count": 74
        }
      ]
    },
    {
      "cell_type": "code",
      "source": [
        "K = tf.constant([0, -100, 100], dtype=tf.float64)\n",
        "\n",
        "# Sigmoid\n",
        "tf.math.sigmoid(K)"
      ],
      "metadata": {
        "colab": {
          "base_uri": "https://localhost:8080/"
        },
        "id": "n_bPTNFltBA0",
        "outputId": "9cd649c7-8636-4d78-b5dd-1cab8aca7b6a"
      },
      "execution_count": null,
      "outputs": [
        {
          "output_type": "execute_result",
          "data": {
            "text/plain": [
              "<tf.Tensor: shape=(3,), dtype=float64, numpy=array([5.00000000e-01, 3.72007598e-44, 1.00000000e+00])>"
            ]
          },
          "metadata": {},
          "execution_count": 81
        }
      ]
    },
    {
      "cell_type": "markdown",
      "source": [
        "### ⭐ Tensors and Numpy Arrays"
      ],
      "metadata": {
        "id": "0KuBrnpcu7Wq"
      }
    },
    {
      "cell_type": "code",
      "source": [
        "# Can convert np arrays into a tensor\n",
        "K = tf.constant(np.array([1., 2., 3., 4.]))\n",
        "K, type(K)"
      ],
      "metadata": {
        "colab": {
          "base_uri": "https://localhost:8080/"
        },
        "id": "LpdXyPtjvCVv",
        "outputId": "a338c427-c16b-464e-b814-429006c4e36a"
      },
      "execution_count": null,
      "outputs": [
        {
          "output_type": "execute_result",
          "data": {
            "text/plain": [
              "(<tf.Tensor: shape=(4,), dtype=float64, numpy=array([1., 2., 3., 4.])>,\n",
              " tensorflow.python.framework.ops.EagerTensor)"
            ]
          },
          "metadata": {},
          "execution_count": 85
        }
      ]
    },
    {
      "cell_type": "code",
      "source": [
        "# Can convert from tensor to numpy array as well\n",
        "K.numpy(), type(K.numpy())"
      ],
      "metadata": {
        "colab": {
          "base_uri": "https://localhost:8080/"
        },
        "id": "jL5FoccSvTZx",
        "outputId": "0402c395-7f56-4dba-d1fe-8d193e8cac72"
      },
      "execution_count": null,
      "outputs": [
        {
          "output_type": "execute_result",
          "data": {
            "text/plain": [
              "(array([1., 2., 3., 4.]), numpy.ndarray)"
            ]
          },
          "metadata": {},
          "execution_count": 90
        }
      ]
    },
    {
      "cell_type": "code",
      "source": [
        "# Default types of each are different\n",
        "numpy_K =  tf.constant(np.array([1., 2., 3., 4.]))\n",
        "tensor_K = tf.constant([1., 2., 3., 4.])\n",
        "\n",
        "# Default of numpy = float64 while default of tensor = float32\n",
        "numpy_K.dtype, tensor_K.dtype"
      ],
      "metadata": {
        "colab": {
          "base_uri": "https://localhost:8080/"
        },
        "id": "N01sqTNPvjdh",
        "outputId": "60b76296-6c3e-4271-c488-bc9032c99669"
      },
      "execution_count": null,
      "outputs": [
        {
          "output_type": "execute_result",
          "data": {
            "text/plain": [
              "(tf.float64, tf.float32)"
            ]
          },
          "metadata": {},
          "execution_count": 92
        }
      ]
    }
  ]
}